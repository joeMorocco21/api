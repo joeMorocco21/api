{
 "cells": [
  {
   "cell_type": "markdown",
   "source": [
    "# Last version of model"
   ],
   "metadata": {}
  },
  {
   "cell_type": "code",
   "execution_count": 14,
   "source": [
    "import pandas as pd\r\n",
    "from sklearn.model_selection import train_test_split\r\n",
    "from sklearn.preprocessing import StandardScaler\r\n",
    "from sklearn.linear_model import LinearRegression\r\n",
    "import pickle\r\n",
    "\r\n",
    "#raw = pd.read_csv(r'../Data/raw/cars.csv', encoding=\"UTF8\")\r\n",
    "raw = pd.read_csv(r'Data/raw/cars.csv')\r\n",
    "\r\n",
    "raw['symboling'] = raw['symboling'].astype('category')\r\n",
    "for c in raw.columns:\r\n",
    "    if raw[c].dtype == 'object': \r\n",
    "        raw[c] = raw[c].astype('category')\r\n",
    "\r\n",
    "raw.drop(['car_ID'], axis=1, inplace=True)\r\n",
    "raw.drop(['CarName'], axis=1, inplace=True)\r\n",
    "\r\n",
    "clean=raw.copy()\r\n",
    "clean_cat = clean.select_dtypes(include=['category'])\r\n",
    "clean_num = clean.select_dtypes(exclude=['category'])\r\n",
    "dummied_cat = pd.get_dummies(data=clean_cat, prefix=[\"sy\", \"ft\", \"as\", \"do\", \"ca\", \"dr\", \"el\", \"et\", \"c\", \"fs\"])\r\n",
    "\r\n",
    "num_feat=clean_num.iloc[:,:-1]\r\n",
    "price=clean_num.iloc[:,-1]\r\n",
    "\r\n",
    "scalX = StandardScaler()\r\n",
    "scaly = StandardScaler()\r\n",
    "\r\n",
    "scalX.fit(num_feat.values)\r\n",
    "scaly.fit(price.values.reshape(-1, 1))\r\n",
    "\r\n",
    "df_features=pd.DataFrame(scalX.transform(num_feat.values))\r\n",
    "target=pd.DataFrame(scaly.transform(price.values.reshape(-1, 1)))\r\n",
    "data_input = pd.concat([dummied_cat, df_features], axis=1)\r\n",
    "\r\n",
    "X = data_input.values\r\n",
    "y = target.values\r\n",
    "\r\n",
    "X_train, X_test, y_train, y_test = train_test_split(X, y, test_size=0.3, random_state=0)\r\n",
    "Price_prediction_model = LinearRegression(fit_intercept=True)\r\n",
    "Price_prediction_model.fit(X_train, y_train)\r\n",
    "\r\n",
    "with open('Pricing_prediction.pkl', 'wb') as file:\r\n",
    "    pickle.dump(Price_prediction_model, file)\r\n",
    "    \r\n",
    "with open('ScalX.pkl', 'wb') as file:\r\n",
    "    pickle.dump(scalX, file)\r\n",
    "\r\n",
    "with open('Scaly.pkl', 'wb') as file:\r\n",
    "    pickle.dump(scaly, file)"
   ],
   "outputs": [],
   "metadata": {}
  },
  {
   "cell_type": "code",
   "execution_count": 79,
   "source": [
    "saisie = [1, 0, 0, 0, 0, 0, 0, 1, 1, 0, 0, 1, 1, 0, 0, 0, 0, 1, 0, 0, 0, 1,\r\n",
    "          0, 0, 0, 1, 0, 0, 0, 0, 0, 1, 0, 0, 0, 0, 0, 0, 0, 0, 0, 1, 0, 0 , \r\n",
    "          94, 157, 65, 55, 2000, 90, 3, 3, 10, 80, 5000, 35, 44]"
   ],
   "outputs": [],
   "metadata": {}
  },
  {
   "cell_type": "code",
   "execution_count": 80,
   "source": [
    "cat = saisie[:44]\r\n",
    "num = saisie[44:]\r\n",
    "df_num = pd.Series(num)\r\n",
    "df_cat = pd.DataFrame(cat)\r\n",
    "\r\n",
    "numscal = pd.DataFrame(scalX.transform(df_num.values.reshape(1, -1)))\r\n",
    "entree = pd.concat([df_cat.T, numscal],axis=1).values\r\n",
    "\r\n",
    "prop = Price_prediction_model.predict(entree)\r\n",
    "Our_estimation = scaly.inverse_transform(prop[0]).round(2)"
   ],
   "outputs": [],
   "metadata": {}
  },
  {
   "cell_type": "code",
   "execution_count": 81,
   "source": [
    "Our_estimation"
   ],
   "outputs": [
    {
     "output_type": "execute_result",
     "data": {
      "text/plain": [
       "array([16436.46])"
      ]
     },
     "metadata": {},
     "execution_count": 81
    }
   ],
   "metadata": {}
  },
  {
   "cell_type": "code",
   "execution_count": null,
   "source": [],
   "outputs": [],
   "metadata": {}
  }
 ],
 "metadata": {
  "kernelspec": {
   "display_name": "Python 3",
   "language": "python",
   "name": "python3"
  },
  "language_info": {
   "codemirror_mode": {
    "name": "ipython",
    "version": 3
   },
   "file_extension": ".py",
   "mimetype": "text/x-python",
   "name": "python",
   "nbconvert_exporter": "python",
   "pygments_lexer": "ipython3",
   "version": "3.8.10"
  }
 },
 "nbformat": 4,
 "nbformat_minor": 5
}